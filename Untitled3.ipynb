{
  "nbformat": 4,
  "nbformat_minor": 0,
  "metadata": {
    "colab": {
      "provenance": [],
      "authorship_tag": "ABX9TyM3rTzsAB6mJpEBppLHIN9V",
      "include_colab_link": true
    },
    "kernelspec": {
      "name": "python3",
      "display_name": "Python 3"
    },
    "language_info": {
      "name": "python"
    }
  },
  "cells": [
    {
      "cell_type": "markdown",
      "metadata": {
        "id": "view-in-github",
        "colab_type": "text"
      },
      "source": [
        "<a href=\"https://colab.research.google.com/github/claracr1991-droid/Unicafacamprogramacionavanzada20252/blob/main/Untitled3.ipynb\" target=\"_parent\"><img src=\"https://colab.research.google.com/assets/colab-badge.svg\" alt=\"Open In Colab\"/></a>"
      ]
    },
    {
      "cell_type": "code",
      "execution_count": null,
      "metadata": {
        "id": "X2pNIVQWyq3T"
      },
      "outputs": [],
      "source": []
    },
    {
      "cell_type": "markdown",
      "source": [
        "**Introduccion a Python**\n",
        "\n",
        "Programacion avanzada\n",
        "\n",
        "Ingenieria industrial\n",
        "\n",
        "Facultad de Ingenieria\n",
        "\n",
        "Unicafam\n",
        "\n",
        "Docente: Nicolas Mojica\n",
        "\n",
        "Estudiante: Isabel Chacon\n",
        "\n",
        "---"
      ],
      "metadata": {
        "id": "WlJ1sFWLzHZO"
      }
    },
    {
      "cell_type": "markdown",
      "source": [
        "## 1. comentarios de codigo\n",
        "\n"
      ],
      "metadata": {
        "id": "_t-4scVe0Qzj"
      }
    },
    {
      "cell_type": "code",
      "source": [
        "# Este es un comentario de una solo linea\n",
        "print(\"hola mundo\")"
      ],
      "metadata": {
        "colab": {
          "base_uri": "https://localhost:8080/"
        },
        "id": "chzggXLE0DG-",
        "outputId": "24082fd2-b597-4762-a258-e5771e82f72c"
      },
      "execution_count": 1,
      "outputs": [
        {
          "output_type": "stream",
          "name": "stdout",
          "text": [
            "hola mundo\n"
          ]
        }
      ]
    },
    {
      "cell_type": "code",
      "source": [
        "\"\"\"este comentario\n",
        "es para\n",
        "varias lineas \"\"\"\n",
        "print(\"hola mundo\")"
      ],
      "metadata": {
        "colab": {
          "base_uri": "https://localhost:8080/"
        },
        "id": "yhBxvRU81TlE",
        "outputId": "02a1786e-1615-4916-b271-47d354e3a4e2"
      },
      "execution_count": 8,
      "outputs": [
        {
          "output_type": "stream",
          "name": "stdout",
          "text": [
            "hola mundo\n"
          ]
        }
      ]
    },
    {
      "cell_type": "code",
      "source": [
        "##**2.Variables"
      ],
      "metadata": {
        "id": "BCKg8M_62he7"
      },
      "execution_count": 4,
      "outputs": []
    },
    {
      "cell_type": "code",
      "source": [
        "# reglas para nombrar un variable\n",
        "# 1. no caracteres especiales - no espacios\n",
        "# 2. las variables son sensibles a las MAYUSCULAS ominusculas\n",
        "# 3. las variables se se transforman a travez del codigo\n",
        "var=\"hola mundo\"\n",
        "print(var)"
      ],
      "metadata": {
        "colab": {
          "base_uri": "https://localhost:8080/"
        },
        "id": "WOb_X-0a3KVc",
        "outputId": "33cfbf6f-bfd1-403c-b4c2-66c6733ad1d2"
      },
      "execution_count": 7,
      "outputs": [
        {
          "output_type": "stream",
          "name": "stdout",
          "text": [
            "hola mundo\n"
          ]
        }
      ]
    },
    {
      "cell_type": "code",
      "source": [
        "#3. Tipos de datos"
      ],
      "metadata": {
        "id": "tkBlWdJ93YSQ"
      },
      "execution_count": 9,
      "outputs": []
    },
    {
      "cell_type": "code",
      "source": [
        "# numericos\n",
        "# enteros - integer\n",
        "entero=42\n",
        "entero_literal=int(42)\n",
        "type(entero)\n",
        "type(entero_literal)"
      ],
      "metadata": {
        "colab": {
          "base_uri": "https://localhost:8080/"
        },
        "id": "mtcMUo_75Ckz",
        "outputId": "ae6c2b37-4be6-40ca-c0ee-8ccacf8944ba"
      },
      "execution_count": 12,
      "outputs": [
        {
          "output_type": "execute_result",
          "data": {
            "text/plain": [
              "int"
            ]
          },
          "metadata": {},
          "execution_count": 12
        }
      ]
    },
    {
      "cell_type": "code",
      "source": [
        "# decimales - float\n",
        "decimal=3.14\n",
        "decimal_leteral=float(3.14)\n",
        "type(decimal)\n",
        ""
      ],
      "metadata": {
        "colab": {
          "base_uri": "https://localhost:8080/"
        },
        "id": "hBlqYd905-wx",
        "outputId": "df4b3040-2b25-482a-cfc4-fc7e2ecdd7da"
      },
      "execution_count": 13,
      "outputs": [
        {
          "output_type": "execute_result",
          "data": {
            "text/plain": [
              "float"
            ]
          },
          "metadata": {},
          "execution_count": 13
        }
      ]
    },
    {
      "cell_type": "code",
      "source": [
        "# conversion de tipos de datos\n",
        "entero_convertido=float(entero)\n",
        "print(entero_convertido)\n",
        "type(entero_convertido)\n",
        ""
      ],
      "metadata": {
        "colab": {
          "base_uri": "https://localhost:8080/"
        },
        "id": "fdmGXM_K7hnH",
        "outputId": "7101281a-ecf0-4cbb-c309-465f4ce7d433"
      },
      "execution_count": 14,
      "outputs": [
        {
          "output_type": "stream",
          "name": "stdout",
          "text": [
            "42.0\n"
          ]
        },
        {
          "output_type": "execute_result",
          "data": {
            "text/plain": [
              "float"
            ]
          },
          "metadata": {},
          "execution_count": 14
        }
      ]
    },
    {
      "cell_type": "code",
      "source": [
        "# valores de cadena de datos de texto - string\n",
        "cadena_simple=\"hola,mundo\"\n",
        "cadena_multi=\"\"\"cadena de\n",
        "varias\n",
        "lineas\"\"\""
      ],
      "metadata": {
        "id": "oYA6YvYB8AoK"
      },
      "execution_count": 15,
      "outputs": []
    },
    {
      "cell_type": "markdown",
      "source": [
        "## 4. operadores aritmeticos\n"
      ],
      "metadata": {
        "id": "JzCs--nj9abH"
      }
    },
    {
      "cell_type": "code",
      "source": [],
      "metadata": {
        "id": "xa2xfXE59YNv"
      },
      "execution_count": null,
      "outputs": []
    }
  ]
}